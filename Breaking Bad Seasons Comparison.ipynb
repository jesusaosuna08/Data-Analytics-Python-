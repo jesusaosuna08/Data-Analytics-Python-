{
 "cells": [
  {
   "cell_type": "markdown",
   "id": "9e5d1bba",
   "metadata": {},
   "source": [
    "### Import Libraries"
   ]
  },
  {
   "cell_type": "code",
   "execution_count": 149,
   "id": "bb5adef7",
   "metadata": {},
   "outputs": [],
   "source": [
    "import numpy as np\n",
    "import pandas as pd\n",
    "import matplotlib.pyplot as plt\n",
    "%matplotlib inline"
   ]
  },
  {
   "cell_type": "markdown",
   "id": "58cd1f3f",
   "metadata": {},
   "source": [
    "### Load the dataset"
   ]
  },
  {
   "cell_type": "code",
   "execution_count": 150,
   "id": "3a3e79dd",
   "metadata": {},
   "outputs": [
    {
     "data": {
      "text/html": [
       "<div>\n",
       "<style scoped>\n",
       "    .dataframe tbody tr th:only-of-type {\n",
       "        vertical-align: middle;\n",
       "    }\n",
       "\n",
       "    .dataframe tbody tr th {\n",
       "        vertical-align: top;\n",
       "    }\n",
       "\n",
       "    .dataframe thead th {\n",
       "        text-align: right;\n",
       "    }\n",
       "</style>\n",
       "<table border=\"1\" class=\"dataframe\">\n",
       "  <thead>\n",
       "    <tr style=\"text-align: right;\">\n",
       "      <th></th>\n",
       "      <th>season</th>\n",
       "      <th>episode_num</th>\n",
       "      <th>title</th>\n",
       "      <th>original_air_date</th>\n",
       "      <th>imdb_rating</th>\n",
       "      <th>total_votes</th>\n",
       "      <th>desc</th>\n",
       "    </tr>\n",
       "  </thead>\n",
       "  <tbody>\n",
       "    <tr>\n",
       "      <th>0</th>\n",
       "      <td>1</td>\n",
       "      <td>1</td>\n",
       "      <td>Pilot</td>\n",
       "      <td>2008-01-20</td>\n",
       "      <td>9.1</td>\n",
       "      <td>30419</td>\n",
       "      <td>Diagnosed with terminal lung cancer, chemistry...</td>\n",
       "    </tr>\n",
       "    <tr>\n",
       "      <th>1</th>\n",
       "      <td>1</td>\n",
       "      <td>2</td>\n",
       "      <td>Cat's in the Bag...</td>\n",
       "      <td>2008-01-27</td>\n",
       "      <td>8.7</td>\n",
       "      <td>22282</td>\n",
       "      <td>After their first drug deal goes terribly wron...</td>\n",
       "    </tr>\n",
       "    <tr>\n",
       "      <th>2</th>\n",
       "      <td>1</td>\n",
       "      <td>3</td>\n",
       "      <td>...And the Bag's in the River</td>\n",
       "      <td>2008-02-10</td>\n",
       "      <td>8.8</td>\n",
       "      <td>21633</td>\n",
       "      <td>Walt and Jesse clean up after the bathtub inci...</td>\n",
       "    </tr>\n",
       "    <tr>\n",
       "      <th>3</th>\n",
       "      <td>1</td>\n",
       "      <td>4</td>\n",
       "      <td>Cancer Man</td>\n",
       "      <td>2008-02-17</td>\n",
       "      <td>8.3</td>\n",
       "      <td>20912</td>\n",
       "      <td>Walt tells the rest of his family about his ca...</td>\n",
       "    </tr>\n",
       "    <tr>\n",
       "      <th>4</th>\n",
       "      <td>1</td>\n",
       "      <td>5</td>\n",
       "      <td>Gray Matter</td>\n",
       "      <td>2008-02-24</td>\n",
       "      <td>8.4</td>\n",
       "      <td>20546</td>\n",
       "      <td>Walt rejects everyone who tries to help him wi...</td>\n",
       "    </tr>\n",
       "  </tbody>\n",
       "</table>\n",
       "</div>"
      ],
      "text/plain": [
       "   season  episode_num                          title original_air_date  \\\n",
       "0       1            1                          Pilot        2008-01-20   \n",
       "1       1            2            Cat's in the Bag...        2008-01-27   \n",
       "2       1            3  ...And the Bag's in the River        2008-02-10   \n",
       "3       1            4                     Cancer Man        2008-02-17   \n",
       "4       1            5                    Gray Matter        2008-02-24   \n",
       "\n",
       "   imdb_rating  total_votes                                               desc  \n",
       "0          9.1        30419  Diagnosed with terminal lung cancer, chemistry...  \n",
       "1          8.7        22282  After their first drug deal goes terribly wron...  \n",
       "2          8.8        21633  Walt and Jesse clean up after the bathtub inci...  \n",
       "3          8.3        20912  Walt tells the rest of his family about his ca...  \n",
       "4          8.4        20546  Walt rejects everyone who tries to help him wi...  "
      ]
     },
     "execution_count": 150,
     "metadata": {},
     "output_type": "execute_result"
    }
   ],
   "source": [
    "bb = pd.read_csv('breaking_bad_imdb.csv')\n",
    "bb.head()"
   ]
  },
  {
   "cell_type": "markdown",
   "id": "5cd13f31",
   "metadata": {},
   "source": [
    "### Process the Dataset"
   ]
  },
  {
   "cell_type": "code",
   "execution_count": 151,
   "id": "71bd79f7",
   "metadata": {},
   "outputs": [
    {
     "data": {
      "text/html": [
       "<div>\n",
       "<style scoped>\n",
       "    .dataframe tbody tr th:only-of-type {\n",
       "        vertical-align: middle;\n",
       "    }\n",
       "\n",
       "    .dataframe tbody tr th {\n",
       "        vertical-align: top;\n",
       "    }\n",
       "\n",
       "    .dataframe thead th {\n",
       "        text-align: right;\n",
       "    }\n",
       "</style>\n",
       "<table border=\"1\" class=\"dataframe\">\n",
       "  <thead>\n",
       "    <tr style=\"text-align: right;\">\n",
       "      <th></th>\n",
       "      <th>Season</th>\n",
       "      <th>Episode</th>\n",
       "      <th>Title</th>\n",
       "      <th>Original_Air_Date</th>\n",
       "      <th>Imdb_Rating</th>\n",
       "      <th>Total_Votes</th>\n",
       "    </tr>\n",
       "  </thead>\n",
       "  <tbody>\n",
       "    <tr>\n",
       "      <th>0</th>\n",
       "      <td>1</td>\n",
       "      <td>1</td>\n",
       "      <td>Pilot</td>\n",
       "      <td>2008-01-20</td>\n",
       "      <td>9.1</td>\n",
       "      <td>30419</td>\n",
       "    </tr>\n",
       "    <tr>\n",
       "      <th>1</th>\n",
       "      <td>1</td>\n",
       "      <td>2</td>\n",
       "      <td>Cat's in the Bag...</td>\n",
       "      <td>2008-01-27</td>\n",
       "      <td>8.7</td>\n",
       "      <td>22282</td>\n",
       "    </tr>\n",
       "    <tr>\n",
       "      <th>2</th>\n",
       "      <td>1</td>\n",
       "      <td>3</td>\n",
       "      <td>...And the Bag's in the River</td>\n",
       "      <td>2008-02-10</td>\n",
       "      <td>8.8</td>\n",
       "      <td>21633</td>\n",
       "    </tr>\n",
       "    <tr>\n",
       "      <th>3</th>\n",
       "      <td>1</td>\n",
       "      <td>4</td>\n",
       "      <td>Cancer Man</td>\n",
       "      <td>2008-02-17</td>\n",
       "      <td>8.3</td>\n",
       "      <td>20912</td>\n",
       "    </tr>\n",
       "    <tr>\n",
       "      <th>4</th>\n",
       "      <td>1</td>\n",
       "      <td>5</td>\n",
       "      <td>Gray Matter</td>\n",
       "      <td>2008-02-24</td>\n",
       "      <td>8.4</td>\n",
       "      <td>20546</td>\n",
       "    </tr>\n",
       "  </tbody>\n",
       "</table>\n",
       "</div>"
      ],
      "text/plain": [
       "   Season  Episode                          Title Original_Air_Date  \\\n",
       "0       1        1                          Pilot        2008-01-20   \n",
       "1       1        2            Cat's in the Bag...        2008-01-27   \n",
       "2       1        3  ...And the Bag's in the River        2008-02-10   \n",
       "3       1        4                     Cancer Man        2008-02-17   \n",
       "4       1        5                    Gray Matter        2008-02-24   \n",
       "\n",
       "   Imdb_Rating  Total_Votes  \n",
       "0          9.1        30419  \n",
       "1          8.7        22282  \n",
       "2          8.8        21633  \n",
       "3          8.3        20912  \n",
       "4          8.4        20546  "
      ]
     },
     "execution_count": 151,
     "metadata": {},
     "output_type": "execute_result"
    }
   ],
   "source": [
    "# Capitalize column names\n",
    "bb.columns = bb.columns.str.title()\n",
    "# Rename few columns\n",
    "bb = bb.rename(columns={'Episode_Num' : 'Episode', 'Imdb Rating': 'IMDB Rating'})\n",
    "# Drop Description Variable\n",
    "bb = bb.drop(columns = 'Desc', axis=1)\n",
    "# Print\n",
    "bb.head()"
   ]
  },
  {
   "cell_type": "code",
   "execution_count": 152,
   "id": "ad832cc3",
   "metadata": {},
   "outputs": [
    {
     "data": {
      "text/html": [
       "<div>\n",
       "<style scoped>\n",
       "    .dataframe tbody tr th:only-of-type {\n",
       "        vertical-align: middle;\n",
       "    }\n",
       "\n",
       "    .dataframe tbody tr th {\n",
       "        vertical-align: top;\n",
       "    }\n",
       "\n",
       "    .dataframe thead th {\n",
       "        text-align: right;\n",
       "    }\n",
       "</style>\n",
       "<table border=\"1\" class=\"dataframe\">\n",
       "  <thead>\n",
       "    <tr style=\"text-align: right;\">\n",
       "      <th></th>\n",
       "      <th>Season</th>\n",
       "      <th>Episode</th>\n",
       "      <th>Overall_Episode</th>\n",
       "      <th>Title</th>\n",
       "      <th>Original_Air_Date</th>\n",
       "      <th>Imdb_Rating</th>\n",
       "      <th>Total_Votes</th>\n",
       "    </tr>\n",
       "  </thead>\n",
       "  <tbody>\n",
       "    <tr>\n",
       "      <th>0</th>\n",
       "      <td>1</td>\n",
       "      <td>1</td>\n",
       "      <td>1</td>\n",
       "      <td>Pilot</td>\n",
       "      <td>2008-01-20</td>\n",
       "      <td>9.1</td>\n",
       "      <td>30419</td>\n",
       "    </tr>\n",
       "    <tr>\n",
       "      <th>1</th>\n",
       "      <td>1</td>\n",
       "      <td>2</td>\n",
       "      <td>2</td>\n",
       "      <td>Cat's in the Bag...</td>\n",
       "      <td>2008-01-27</td>\n",
       "      <td>8.7</td>\n",
       "      <td>22282</td>\n",
       "    </tr>\n",
       "    <tr>\n",
       "      <th>2</th>\n",
       "      <td>1</td>\n",
       "      <td>3</td>\n",
       "      <td>3</td>\n",
       "      <td>...And the Bag's in the River</td>\n",
       "      <td>2008-02-10</td>\n",
       "      <td>8.8</td>\n",
       "      <td>21633</td>\n",
       "    </tr>\n",
       "    <tr>\n",
       "      <th>3</th>\n",
       "      <td>1</td>\n",
       "      <td>4</td>\n",
       "      <td>4</td>\n",
       "      <td>Cancer Man</td>\n",
       "      <td>2008-02-17</td>\n",
       "      <td>8.3</td>\n",
       "      <td>20912</td>\n",
       "    </tr>\n",
       "    <tr>\n",
       "      <th>4</th>\n",
       "      <td>1</td>\n",
       "      <td>5</td>\n",
       "      <td>5</td>\n",
       "      <td>Gray Matter</td>\n",
       "      <td>2008-02-24</td>\n",
       "      <td>8.4</td>\n",
       "      <td>20546</td>\n",
       "    </tr>\n",
       "  </tbody>\n",
       "</table>\n",
       "</div>"
      ],
      "text/plain": [
       "   Season  Episode  Overall_Episode                          Title  \\\n",
       "0       1        1                1                          Pilot   \n",
       "1       1        2                2            Cat's in the Bag...   \n",
       "2       1        3                3  ...And the Bag's in the River   \n",
       "3       1        4                4                     Cancer Man   \n",
       "4       1        5                5                    Gray Matter   \n",
       "\n",
       "  Original_Air_Date  Imdb_Rating  Total_Votes  \n",
       "0        2008-01-20          9.1        30419  \n",
       "1        2008-01-27          8.7        22282  \n",
       "2        2008-02-10          8.8        21633  \n",
       "3        2008-02-17          8.3        20912  \n",
       "4        2008-02-24          8.4        20546  "
      ]
     },
     "execution_count": 152,
     "metadata": {},
     "output_type": "execute_result"
    }
   ],
   "source": [
    "# Add column for overall episode count (season is not accounted for)\n",
    "bb['Overall_Episode'] = range(1,63)\n",
    "# Rearrange order of the columns\n",
    "bb = bb[['Season', 'Episode', 'Overall_Episode','Title', 'Original_Air_Date', 'Imdb_Rating',\n",
    "       'Total_Votes']]\n",
    "bb.head()"
   ]
  },
  {
   "cell_type": "code",
   "execution_count": 153,
   "id": "12757211",
   "metadata": {},
   "outputs": [
    {
     "name": "stdout",
     "output_type": "stream",
     "text": [
      "<class 'pandas.core.frame.DataFrame'>\n",
      "RangeIndex: 62 entries, 0 to 61\n",
      "Data columns (total 7 columns):\n",
      " #   Column             Non-Null Count  Dtype  \n",
      "---  ------             --------------  -----  \n",
      " 0   Season             62 non-null     int64  \n",
      " 1   Episode            62 non-null     int64  \n",
      " 2   Overall_Episode    62 non-null     int64  \n",
      " 3   Title              62 non-null     object \n",
      " 4   Original_Air_Date  62 non-null     object \n",
      " 5   Imdb_Rating        62 non-null     float64\n",
      " 6   Total_Votes        62 non-null     int64  \n",
      "dtypes: float64(1), int64(4), object(2)\n",
      "memory usage: 3.5+ KB\n"
     ]
    }
   ],
   "source": [
    "# General information on the variables\n",
    "bb.info()"
   ]
  },
  {
   "cell_type": "code",
   "execution_count": 154,
   "id": "57c5c8ee",
   "metadata": {},
   "outputs": [
    {
     "name": "stdout",
     "output_type": "stream",
     "text": [
      "<class 'pandas.core.frame.DataFrame'>\n",
      "RangeIndex: 62 entries, 0 to 61\n",
      "Data columns (total 7 columns):\n",
      " #   Column             Non-Null Count  Dtype         \n",
      "---  ------             --------------  -----         \n",
      " 0   Season             62 non-null     int64         \n",
      " 1   Episode            62 non-null     int64         \n",
      " 2   Overall_Episode    62 non-null     int64         \n",
      " 3   Title              62 non-null     object        \n",
      " 4   Original_Air_Date  62 non-null     datetime64[ns]\n",
      " 5   Imdb_Rating        62 non-null     float64       \n",
      " 6   Total_Votes        62 non-null     int64         \n",
      "dtypes: datetime64[ns](1), float64(1), int64(4), object(1)\n",
      "memory usage: 3.5+ KB\n"
     ]
    }
   ],
   "source": [
    "# Change bb['Original Air Data'] to a date type\n",
    "bb['Original_Air_Date'] = pd.to_datetime(bb['Original_Air_Date'], format='%y-%m-%d', infer_datetime_format = True)\n",
    "bb.info()"
   ]
  },
  {
   "cell_type": "code",
   "execution_count": 155,
   "id": "7f12ad80",
   "metadata": {},
   "outputs": [
    {
     "data": {
      "text/html": [
       "<div>\n",
       "<style scoped>\n",
       "    .dataframe tbody tr th:only-of-type {\n",
       "        vertical-align: middle;\n",
       "    }\n",
       "\n",
       "    .dataframe tbody tr th {\n",
       "        vertical-align: top;\n",
       "    }\n",
       "\n",
       "    .dataframe thead th {\n",
       "        text-align: right;\n",
       "    }\n",
       "</style>\n",
       "<table border=\"1\" class=\"dataframe\">\n",
       "  <thead>\n",
       "    <tr style=\"text-align: right;\">\n",
       "      <th></th>\n",
       "      <th>percent_missing</th>\n",
       "    </tr>\n",
       "  </thead>\n",
       "  <tbody>\n",
       "    <tr>\n",
       "      <th>Season</th>\n",
       "      <td>0.0</td>\n",
       "    </tr>\n",
       "    <tr>\n",
       "      <th>Episode</th>\n",
       "      <td>0.0</td>\n",
       "    </tr>\n",
       "    <tr>\n",
       "      <th>Overall_Episode</th>\n",
       "      <td>0.0</td>\n",
       "    </tr>\n",
       "    <tr>\n",
       "      <th>Title</th>\n",
       "      <td>0.0</td>\n",
       "    </tr>\n",
       "    <tr>\n",
       "      <th>Original_Air_Date</th>\n",
       "      <td>0.0</td>\n",
       "    </tr>\n",
       "    <tr>\n",
       "      <th>Imdb_Rating</th>\n",
       "      <td>0.0</td>\n",
       "    </tr>\n",
       "    <tr>\n",
       "      <th>Total_Votes</th>\n",
       "      <td>0.0</td>\n",
       "    </tr>\n",
       "  </tbody>\n",
       "</table>\n",
       "</div>"
      ],
      "text/plain": [
       "                   percent_missing\n",
       "Season                         0.0\n",
       "Episode                        0.0\n",
       "Overall_Episode                0.0\n",
       "Title                          0.0\n",
       "Original_Air_Date              0.0\n",
       "Imdb_Rating                    0.0\n",
       "Total_Votes                    0.0"
      ]
     },
     "execution_count": 155,
     "metadata": {},
     "output_type": "execute_result"
    }
   ],
   "source": [
    "# Check for missing data\n",
    "percent_missing = bb.isnull().sum() * 100 / len(bb)\n",
    "missing_values_df = pd.DataFrame({'percent_missing': percent_missing}, index = bb.columns)\n",
    "\n",
    "missing_values_df"
   ]
  },
  {
   "cell_type": "markdown",
   "id": "0bf70efa",
   "metadata": {},
   "source": [
    "### Comparing the Seasons Using IMDB Score"
   ]
  },
  {
   "cell_type": "markdown",
   "id": "5df3baf3",
   "metadata": {},
   "source": [
    "#### Groupby and Pivot Table"
   ]
  },
  {
   "cell_type": "code",
   "execution_count": 156,
   "id": "3c1504f2",
   "metadata": {},
   "outputs": [
    {
     "data": {
      "text/plain": [
       "Season\n",
       "1    8.785714\n",
       "2    8.861538\n",
       "3    8.815385\n",
       "4    9.038462\n",
       "5    9.431250\n",
       "Name: Imdb_Rating, dtype: float64"
      ]
     },
     "execution_count": 156,
     "metadata": {},
     "output_type": "execute_result"
    }
   ],
   "source": [
    "# Average IMDB score for each season's episodes\n",
    "# Using Groupby\n",
    "bb.groupby('Season')['Imdb_Rating'].mean()"
   ]
  },
  {
   "cell_type": "code",
   "execution_count": 157,
   "id": "293216d1",
   "metadata": {},
   "outputs": [
    {
     "data": {
      "text/html": [
       "<div>\n",
       "<style scoped>\n",
       "    .dataframe tbody tr th:only-of-type {\n",
       "        vertical-align: middle;\n",
       "    }\n",
       "\n",
       "    .dataframe tbody tr th {\n",
       "        vertical-align: top;\n",
       "    }\n",
       "\n",
       "    .dataframe thead th {\n",
       "        text-align: right;\n",
       "    }\n",
       "</style>\n",
       "<table border=\"1\" class=\"dataframe\">\n",
       "  <thead>\n",
       "    <tr style=\"text-align: right;\">\n",
       "      <th></th>\n",
       "      <th>Imdb_Rating</th>\n",
       "    </tr>\n",
       "    <tr>\n",
       "      <th>Season</th>\n",
       "      <th></th>\n",
       "    </tr>\n",
       "  </thead>\n",
       "  <tbody>\n",
       "    <tr>\n",
       "      <th>1</th>\n",
       "      <td>8.785714</td>\n",
       "    </tr>\n",
       "    <tr>\n",
       "      <th>2</th>\n",
       "      <td>8.861538</td>\n",
       "    </tr>\n",
       "    <tr>\n",
       "      <th>3</th>\n",
       "      <td>8.815385</td>\n",
       "    </tr>\n",
       "    <tr>\n",
       "      <th>4</th>\n",
       "      <td>9.038462</td>\n",
       "    </tr>\n",
       "    <tr>\n",
       "      <th>5</th>\n",
       "      <td>9.431250</td>\n",
       "    </tr>\n",
       "  </tbody>\n",
       "</table>\n",
       "</div>"
      ],
      "text/plain": [
       "        Imdb_Rating\n",
       "Season             \n",
       "1          8.785714\n",
       "2          8.861538\n",
       "3          8.815385\n",
       "4          9.038462\n",
       "5          9.431250"
      ]
     },
     "execution_count": 157,
     "metadata": {},
     "output_type": "execute_result"
    }
   ],
   "source": [
    "# Using a pivot table\n",
    "pt = bb.pivot_table('Imdb_Rating', index = 'Season', aggfunc = np.mean)\n",
    "pt"
   ]
  },
  {
   "cell_type": "markdown",
   "id": "7ac249d0",
   "metadata": {},
   "source": [
    "#### Visualization"
   ]
  },
  {
   "cell_type": "code",
   "execution_count": 166,
   "id": "8ead93ee",
   "metadata": {},
   "outputs": [
    {
     "data": {
      "image/png": "[encoded data removed]",
      "text/plain": [
       "<Figure size 720x720 with 2 Axes>"
      ]
     },
     "metadata": {},
     "output_type": "display_data"
    },
    {
     "data": {
      "text/plain": [
       "<Figure size 432x288 with 0 Axes>"
      ]
     },
     "metadata": {},
     "output_type": "display_data"
    }
   ],
   "source": [
    "# Graph\n",
    "fig, ax = plt.subplots(figsize = (10,10))\n",
    "\n",
    "# Colors, font, and fontsize \n",
    "text_c = 'black'\n",
    "markers_c = ''\n",
    "plt.rcParams['font.family'] = 'Consolas'\n",
    "plt.rcParams.update({'font.size': 12})\n",
    "\n",
    "# Background\n",
    "background='whitesmoke'\n",
    "fig.set_facecolor(background)\n",
    "ax.patch.set_facecolor(background)\n",
    "\n",
    "# Remove the ticks\n",
    "ax.tick_params(axis='both', length=0, colors=text_c)\n",
    "\n",
    "# Set axis labels\n",
    "ax.set_ylabel('Season', color = 'black')\n",
    "ax.set_xlabel('IMDB Rating', color = 'black')\n",
    "\n",
    "# Values\n",
    "x = pt.index\n",
    "y = pt['Imdb_Rating']\n",
    "barh = ax.barh(y = x, width = y, color = '#1F6032')\n",
    "ax.invert_yaxis() # For ascending order\n",
    "\n",
    "# Bar label\n",
    "ax.bar_label(barh, color = text_c, fmt='%.2f')\n",
    "\n",
    "# Title\n",
    "fig.text(x=0.15, y=.975,s='Average Episode Rating by Season', fontsize = 19, color = text_c, fontweight = 'bold')\n",
    "fig.text(x=0.15, y=.943,s='Based on IMDB Scores', color = text_c, fontsize = 15,fontweight = 'regular')\n",
    "\n",
    "# Breaking Bad logo \n",
    "import matplotlib.image as image\n",
    "\n",
    "logo = fig.add_axes([.01,.89,.15,.155])\n",
    "logo.axis('off')\n",
    "img =image.imread('bb logo.png')\n",
    "logo.imshow(img)\n",
    "\n",
    "\n",
    "plt.show()\n",
    "\n",
    "# Save\n",
    "plt.savefig(fname = 'Breaking Bad Average IMDB Rating for Episodes by Season', dpi=400, format='png')"
   ]
  },
  {
   "cell_type": "markdown",
   "id": "dbdd8398",
   "metadata": {},
   "source": [
    "### IMDB Rating Trend (Visualization)"
   ]
  },
  {
   "cell_type": "code",
   "execution_count": 167,
   "id": "cede319b",
   "metadata": {},
   "outputs": [
    {
     "data": {
      "image/png": "[encoded data removed]",
      "text/plain": [
       "<Figure size 1440x1008 with 2 Axes>"
      ]
     },
     "metadata": {},
     "output_type": "display_data"
    },
    {
     "data": {
      "text/plain": [
       "<Figure size 432x288 with 0 Axes>"
      ]
     },
     "metadata": {},
     "output_type": "display_data"
    }
   ],
   "source": [
    "# Graph\n",
    "fig, ax = plt.subplots(figsize = (20,14))\n",
    "\n",
    "# Colors, font, and fontsize \n",
    "text_c = 'black'\n",
    "markers_c = ''\n",
    "plt.rcParams['font.family'] = 'Consolas'\n",
    "plt.rcParams.update({'font.size': 18})\n",
    "\n",
    "# Background\n",
    "background='whitesmoke'\n",
    "fig.set_facecolor(background)\n",
    "ax.patch.set_facecolor(background)\n",
    "\n",
    "# Remove the top and right spines\n",
    "ax.spines['top'].set_visible(False)\n",
    "ax.spines['right'].set_visible(False)\n",
    "\n",
    "# Set axis labels\n",
    "ax.set_xlabel('Episode', color = 'black')\n",
    "ax.set_ylabel('IMDB Rating', color = 'black')\n",
    "\n",
    "# Plot values\n",
    "x = bb['Overall_Episode']\n",
    "y = bb['Imdb_Rating']\n",
    "plt1 = ax.scatter(x[:7], y[:7], zorder=2, color = 'orangered')\n",
    "plt2 = ax.scatter(x[7:20], y[7:20], zorder=2, color = 'forestgreen')\n",
    "plt3 = ax.scatter(x[20:33], y[20:33], zorder=2, color = 'blueviolet')\n",
    "plt4 = ax.scatter(x[33:46], y[33:46], zorder=2, color = 'orange')\n",
    "plt5 = ax.scatter(x[46:62], y[46:62], zorder=2, color = 'dodgerblue')\n",
    "\n",
    "# Fit a line through the entirety of the values\n",
    "from numpy.polynomial.polynomial import polyfit\n",
    "m, b = np.polyfit(x, y,deg=1)\n",
    "plt.plot(x, m*x+b, color = 'dimgrey')\n",
    "\n",
    "# Set yticks\n",
    "plt.yticks(np.arange(0, 11, step=1)) # Important to accurately depict the variation of the grades, which are not that high\n",
    "# unless they are only from 7.8 to 10, which are the lowest and highest score respectively\n",
    "\n",
    "# Title\n",
    "fig.text(x=0.15, y=.975,s='Episode Rating by Episode', fontsize = 32, color = text_c, fontweight = 'bold')\n",
    "fig.text(x=0.15, y=.943,s='Based on IMDB Scores, Marked by Season', color = text_c, fontsize = 25,fontweight = 'regular')\n",
    "\n",
    "# Breaking Bad logo \n",
    "import matplotlib.image as image\n",
    "\n",
    "logo = fig.add_axes([.01,.8955,.14,.14])\n",
    "logo.axis('off')\n",
    "img =image.imread('bb logo.png')\n",
    "logo.imshow(img)\n",
    "\n",
    "plt.show()\n",
    "\n",
    "# Save\n",
    "plt.savefig(fname = 'Breaking Bad IMDB Rating Trendline by Episode', dpi=400, format='png')"
   ]
  },
  {
   "cell_type": "code",
   "execution_count": null,
   "id": "d1047733",
   "metadata": {},
   "outputs": [],
   "source": []
  }
 ],
 "metadata": {
  "kernelspec": {
   "display_name": "Python 3 (ipykernel)",
   "language": "python",
   "name": "python3"
  },
  "language_info": {
   "codemirror_mode": {
    "name": "ipython",
    "version": 3
   },
   "file_extension": ".py",
   "mimetype": "text/x-python",
   "name": "python",
   "nbconvert_exporter": "python",
   "pygments_lexer": "ipython3",
   "version": "3.9.7"
  }
 },
 "nbformat": 4,
 "nbformat_minor": 5
}
