{
 "cells": [
  {
   "cell_type": "markdown",
   "id": "20edbed9",
   "metadata": {},
   "source": [
    "### Import Libraries"
   ]
  },
  {
   "cell_type": "code",
   "execution_count": 19,
   "id": "5500c7f0",
   "metadata": {},
   "outputs": [],
   "source": [
    "import numpy as np\n",
    "import pandas as pd\n",
    "import missingno as msno\n",
    "import matplotlib.pyplot as plt\n",
    "%matplotlib inline"
   ]
  },
  {
   "cell_type": "markdown",
   "id": "b9165f21",
   "metadata": {},
   "source": [
    "### Load the Dataset"
   ]
  },
  {
   "cell_type": "markdown",
   "id": "41a65f86",
   "metadata": {},
   "source": [
    "Data was obtained through a SQL query from a public dataset on BigQuery"
   ]
  },
  {
   "cell_type": "code",
   "execution_count": 20,
   "id": "66274d57",
   "metadata": {},
   "outputs": [
    {
     "data": {
      "text/html": [
       "<div>\n",
       "<style scoped>\n",
       "    .dataframe tbody tr th:only-of-type {\n",
       "        vertical-align: middle;\n",
       "    }\n",
       "\n",
       "    .dataframe tbody tr th {\n",
       "        vertical-align: top;\n",
       "    }\n",
       "\n",
       "    .dataframe thead th {\n",
       "        text-align: right;\n",
       "    }\n",
       "</style>\n",
       "<table border=\"1\" class=\"dataframe\">\n",
       "  <thead>\n",
       "    <tr style=\"text-align: right;\">\n",
       "      <th></th>\n",
       "      <th>country_name</th>\n",
       "      <th>country_code</th>\n",
       "      <th>indicator_name</th>\n",
       "      <th>indicator_code</th>\n",
       "      <th>value</th>\n",
       "      <th>year</th>\n",
       "      <th>country_code_1</th>\n",
       "      <th>short_name</th>\n",
       "      <th>region</th>\n",
       "    </tr>\n",
       "  </thead>\n",
       "  <tbody>\n",
       "    <tr>\n",
       "      <th>0</th>\n",
       "      <td>Australia</td>\n",
       "      <td>AUS</td>\n",
       "      <td>Percentage of students in upper secondary educ...</td>\n",
       "      <td>UIS.FEP.3</td>\n",
       "      <td>47.510941</td>\n",
       "      <td>1993</td>\n",
       "      <td>AUS</td>\n",
       "      <td>Australia</td>\n",
       "      <td>East Asia &amp; Pacific</td>\n",
       "    </tr>\n",
       "    <tr>\n",
       "      <th>1</th>\n",
       "      <td>Australia</td>\n",
       "      <td>AUS</td>\n",
       "      <td>Percentage of students in upper secondary educ...</td>\n",
       "      <td>UIS.FEP.3</td>\n",
       "      <td>47.624790</td>\n",
       "      <td>1994</td>\n",
       "      <td>AUS</td>\n",
       "      <td>Australia</td>\n",
       "      <td>East Asia &amp; Pacific</td>\n",
       "    </tr>\n",
       "    <tr>\n",
       "      <th>2</th>\n",
       "      <td>Australia</td>\n",
       "      <td>AUS</td>\n",
       "      <td>Percentage of students in upper secondary educ...</td>\n",
       "      <td>UIS.FEP.3</td>\n",
       "      <td>47.875370</td>\n",
       "      <td>1995</td>\n",
       "      <td>AUS</td>\n",
       "      <td>Australia</td>\n",
       "      <td>East Asia &amp; Pacific</td>\n",
       "    </tr>\n",
       "    <tr>\n",
       "      <th>3</th>\n",
       "      <td>Australia</td>\n",
       "      <td>AUS</td>\n",
       "      <td>Percentage of students in upper secondary educ...</td>\n",
       "      <td>UIS.FEP.3</td>\n",
       "      <td>47.418350</td>\n",
       "      <td>1996</td>\n",
       "      <td>AUS</td>\n",
       "      <td>Australia</td>\n",
       "      <td>East Asia &amp; Pacific</td>\n",
       "    </tr>\n",
       "    <tr>\n",
       "      <th>4</th>\n",
       "      <td>Australia</td>\n",
       "      <td>AUS</td>\n",
       "      <td>Percentage of students in upper secondary educ...</td>\n",
       "      <td>UIS.FEP.3</td>\n",
       "      <td>48.202850</td>\n",
       "      <td>1997</td>\n",
       "      <td>AUS</td>\n",
       "      <td>Australia</td>\n",
       "      <td>East Asia &amp; Pacific</td>\n",
       "    </tr>\n",
       "  </tbody>\n",
       "</table>\n",
       "</div>"
      ],
      "text/plain": [
       "  country_name country_code  \\\n",
       "0    Australia          AUS   \n",
       "1    Australia          AUS   \n",
       "2    Australia          AUS   \n",
       "3    Australia          AUS   \n",
       "4    Australia          AUS   \n",
       "\n",
       "                                      indicator_name indicator_code  \\\n",
       "0  Percentage of students in upper secondary educ...      UIS.FEP.3   \n",
       "1  Percentage of students in upper secondary educ...      UIS.FEP.3   \n",
       "2  Percentage of students in upper secondary educ...      UIS.FEP.3   \n",
       "3  Percentage of students in upper secondary educ...      UIS.FEP.3   \n",
       "4  Percentage of students in upper secondary educ...      UIS.FEP.3   \n",
       "\n",
       "       value  year country_code_1 short_name               region  \n",
       "0  47.510941  1993            AUS  Australia  East Asia & Pacific  \n",
       "1  47.624790  1994            AUS  Australia  East Asia & Pacific  \n",
       "2  47.875370  1995            AUS  Australia  East Asia & Pacific  \n",
       "3  47.418350  1996            AUS  Australia  East Asia & Pacific  \n",
       "4  48.202850  1997            AUS  Australia  East Asia & Pacific  "
      ]
     },
     "execution_count": 20,
     "metadata": {},
     "output_type": "execute_result"
    }
   ],
   "source": [
    "df = pd.read_csv('bquxjob_5d05c574_1845a50507b.csv')\n",
    "df.head()"
   ]
  },
  {
   "cell_type": "markdown",
   "id": "62f071e3",
   "metadata": {},
   "source": [
    "##### All data pertains to percentage of students in upper secondary education"
   ]
  },
  {
   "cell_type": "markdown",
   "id": "91720205",
   "metadata": {},
   "source": [
    "### Data Overview"
   ]
  },
  {
   "cell_type": "code",
   "execution_count": 21,
   "id": "e892868a",
   "metadata": {},
   "outputs": [
    {
     "name": "stdout",
     "output_type": "stream",
     "text": [
      "<class 'pandas.core.frame.DataFrame'>\n",
      "RangeIndex: 365 entries, 0 to 364\n",
      "Data columns (total 9 columns):\n",
      " #   Column          Non-Null Count  Dtype  \n",
      "---  ------          --------------  -----  \n",
      " 0   country_name    365 non-null    object \n",
      " 1   country_code    365 non-null    object \n",
      " 2   indicator_name  365 non-null    object \n",
      " 3   indicator_code  365 non-null    object \n",
      " 4   value           365 non-null    float64\n",
      " 5   year            365 non-null    int64  \n",
      " 6   country_code_1  365 non-null    object \n",
      " 7   short_name      365 non-null    object \n",
      " 8   region          365 non-null    object \n",
      "dtypes: float64(1), int64(1), object(7)\n",
      "memory usage: 25.8+ KB\n"
     ]
    }
   ],
   "source": [
    "df.info()"
   ]
  },
  {
   "cell_type": "markdown",
   "id": "b9d8c237",
   "metadata": {},
   "source": [
    "### Process the Data"
   ]
  },
  {
   "cell_type": "markdown",
   "id": "de702d5e",
   "metadata": {},
   "source": [
    "###### Check for duplicates"
   ]
  },
  {
   "cell_type": "code",
   "execution_count": 22,
   "id": "f0396b0e",
   "metadata": {},
   "outputs": [
    {
     "data": {
      "text/plain": [
       "0"
      ]
     },
     "execution_count": 22,
     "metadata": {},
     "output_type": "execute_result"
    }
   ],
   "source": [
    "df.duplicated().sum()"
   ]
  },
  {
   "cell_type": "markdown",
   "id": "2d143f79",
   "metadata": {},
   "source": [
    "###### Remove unnecessary data"
   ]
  },
  {
   "cell_type": "code",
   "execution_count": 23,
   "id": "c7455757",
   "metadata": {},
   "outputs": [
    {
     "data": {
      "text/html": [
       "<div>\n",
       "<style scoped>\n",
       "    .dataframe tbody tr th:only-of-type {\n",
       "        vertical-align: middle;\n",
       "    }\n",
       "\n",
       "    .dataframe tbody tr th {\n",
       "        vertical-align: top;\n",
       "    }\n",
       "\n",
       "    .dataframe thead th {\n",
       "        text-align: right;\n",
       "    }\n",
       "</style>\n",
       "<table border=\"1\" class=\"dataframe\">\n",
       "  <thead>\n",
       "    <tr style=\"text-align: right;\">\n",
       "      <th></th>\n",
       "      <th>country_name</th>\n",
       "      <th>country_code</th>\n",
       "      <th>value</th>\n",
       "      <th>year</th>\n",
       "      <th>region</th>\n",
       "    </tr>\n",
       "  </thead>\n",
       "  <tbody>\n",
       "    <tr>\n",
       "      <th>0</th>\n",
       "      <td>Australia</td>\n",
       "      <td>AUS</td>\n",
       "      <td>47.510941</td>\n",
       "      <td>1993</td>\n",
       "      <td>East Asia &amp; Pacific</td>\n",
       "    </tr>\n",
       "    <tr>\n",
       "      <th>1</th>\n",
       "      <td>Australia</td>\n",
       "      <td>AUS</td>\n",
       "      <td>47.624790</td>\n",
       "      <td>1994</td>\n",
       "      <td>East Asia &amp; Pacific</td>\n",
       "    </tr>\n",
       "    <tr>\n",
       "      <th>2</th>\n",
       "      <td>Australia</td>\n",
       "      <td>AUS</td>\n",
       "      <td>47.875370</td>\n",
       "      <td>1995</td>\n",
       "      <td>East Asia &amp; Pacific</td>\n",
       "    </tr>\n",
       "    <tr>\n",
       "      <th>3</th>\n",
       "      <td>Australia</td>\n",
       "      <td>AUS</td>\n",
       "      <td>47.418350</td>\n",
       "      <td>1996</td>\n",
       "      <td>East Asia &amp; Pacific</td>\n",
       "    </tr>\n",
       "    <tr>\n",
       "      <th>4</th>\n",
       "      <td>Australia</td>\n",
       "      <td>AUS</td>\n",
       "      <td>48.202850</td>\n",
       "      <td>1997</td>\n",
       "      <td>East Asia &amp; Pacific</td>\n",
       "    </tr>\n",
       "  </tbody>\n",
       "</table>\n",
       "</div>"
      ],
      "text/plain": [
       "  country_name country_code      value  year               region\n",
       "0    Australia          AUS  47.510941  1993  East Asia & Pacific\n",
       "1    Australia          AUS  47.624790  1994  East Asia & Pacific\n",
       "2    Australia          AUS  47.875370  1995  East Asia & Pacific\n",
       "3    Australia          AUS  47.418350  1996  East Asia & Pacific\n",
       "4    Australia          AUS  48.202850  1997  East Asia & Pacific"
      ]
     },
     "execution_count": 23,
     "metadata": {},
     "output_type": "execute_result"
    }
   ],
   "source": [
    "# Drop second country code column, indicator_name, indicator_code, and short_name\n",
    "df1 = df.drop(['country_code_1', 'indicator_name', 'indicator_code', 'short_name'], axis = 1)\n",
    "df1.head()"
   ]
  },
  {
   "cell_type": "markdown",
   "id": "75d8edae",
   "metadata": {},
   "source": [
    "###### Check for misfielded values"
   ]
  },
  {
   "cell_type": "code",
   "execution_count": 24,
   "id": "678ff6e1",
   "metadata": {},
   "outputs": [
    {
     "data": {
      "text/html": [
       "<div>\n",
       "<style scoped>\n",
       "    .dataframe tbody tr th:only-of-type {\n",
       "        vertical-align: middle;\n",
       "    }\n",
       "\n",
       "    .dataframe tbody tr th {\n",
       "        vertical-align: top;\n",
       "    }\n",
       "\n",
       "    .dataframe thead th {\n",
       "        text-align: right;\n",
       "    }\n",
       "</style>\n",
       "<table border=\"1\" class=\"dataframe\">\n",
       "  <thead>\n",
       "    <tr style=\"text-align: right;\">\n",
       "      <th></th>\n",
       "      <th>country_name</th>\n",
       "      <th>country_code</th>\n",
       "      <th>value</th>\n",
       "      <th>year</th>\n",
       "      <th>region</th>\n",
       "    </tr>\n",
       "  </thead>\n",
       "  <tbody>\n",
       "  </tbody>\n",
       "</table>\n",
       "</div>"
      ],
      "text/plain": [
       "Empty DataFrame\n",
       "Columns: [country_name, country_code, value, year, region]\n",
       "Index: []"
      ]
     },
     "execution_count": 24,
     "metadata": {},
     "output_type": "execute_result"
    }
   ],
   "source": [
    "# Any values over 100%\n",
    "df1.loc[df1['value'] > 100]"
   ]
  },
  {
   "cell_type": "code",
   "execution_count": 25,
   "id": "bc9afc44",
   "metadata": {},
   "outputs": [
    {
     "data": {
      "text/html": [
       "<div>\n",
       "<style scoped>\n",
       "    .dataframe tbody tr th:only-of-type {\n",
       "        vertical-align: middle;\n",
       "    }\n",
       "\n",
       "    .dataframe tbody tr th {\n",
       "        vertical-align: top;\n",
       "    }\n",
       "\n",
       "    .dataframe thead th {\n",
       "        text-align: right;\n",
       "    }\n",
       "</style>\n",
       "<table border=\"1\" class=\"dataframe\">\n",
       "  <thead>\n",
       "    <tr style=\"text-align: right;\">\n",
       "      <th></th>\n",
       "      <th>country_name</th>\n",
       "      <th>country_code</th>\n",
       "      <th>value</th>\n",
       "      <th>year</th>\n",
       "      <th>region</th>\n",
       "    </tr>\n",
       "  </thead>\n",
       "  <tbody>\n",
       "  </tbody>\n",
       "</table>\n",
       "</div>"
      ],
      "text/plain": [
       "Empty DataFrame\n",
       "Columns: [country_name, country_code, value, year, region]\n",
       "Index: []"
      ]
     },
     "execution_count": 25,
     "metadata": {},
     "output_type": "execute_result"
    }
   ],
   "source": [
    "# Any values over 0%\n",
    "df1.loc[df1['value'] < 0]"
   ]
  },
  {
   "cell_type": "code",
   "execution_count": 26,
   "id": "93974292",
   "metadata": {},
   "outputs": [
    {
     "name": "stdout",
     "output_type": "stream",
     "text": [
      "2014\n",
      "1980\n"
     ]
    }
   ],
   "source": [
    "# Most recent year should not exceed 2022\n",
    "print(df1['year'].max())\n",
    "# Oldest year cannot preceed 1944 which was when the World Bank was founded\n",
    "print(df1['year'].min())"
   ]
  },
  {
   "cell_type": "code",
   "execution_count": 27,
   "id": "21c046fa",
   "metadata": {},
   "outputs": [
    {
     "data": {
      "text/html": [
       "<div>\n",
       "<style scoped>\n",
       "    .dataframe tbody tr th:only-of-type {\n",
       "        vertical-align: middle;\n",
       "    }\n",
       "\n",
       "    .dataframe tbody tr th {\n",
       "        vertical-align: top;\n",
       "    }\n",
       "\n",
       "    .dataframe thead th {\n",
       "        text-align: right;\n",
       "    }\n",
       "</style>\n",
       "<table border=\"1\" class=\"dataframe\">\n",
       "  <thead>\n",
       "    <tr style=\"text-align: right;\">\n",
       "      <th></th>\n",
       "      <th>country_name</th>\n",
       "      <th>country_code</th>\n",
       "      <th>value</th>\n",
       "      <th>year</th>\n",
       "      <th>region</th>\n",
       "    </tr>\n",
       "  </thead>\n",
       "  <tbody>\n",
       "  </tbody>\n",
       "</table>\n",
       "</div>"
      ],
      "text/plain": [
       "Empty DataFrame\n",
       "Columns: [country_name, country_code, value, year, region]\n",
       "Index: []"
      ]
     },
     "execution_count": 27,
     "metadata": {},
     "output_type": "execute_result"
    }
   ],
   "source": [
    "# Every country should be from the East Asia & Pacific Region\n",
    "df1.loc[df1['region'] != 'East Asia & Pacific']"
   ]
  },
  {
   "cell_type": "markdown",
   "id": "952c2706",
   "metadata": {},
   "source": [
    "###### Spelling Check"
   ]
  },
  {
   "cell_type": "code",
   "execution_count": 28,
   "id": "09cbaf3a",
   "metadata": {},
   "outputs": [
    {
     "data": {
      "text/plain": [
       "Australia                    22\n",
       "Korea, Rep.                  20\n",
       "New Zealand                  20\n",
       "Singapore                    19\n",
       "Japan                        18\n",
       "Mongolia                     17\n",
       "Brunei Darussalam            17\n",
       "Lao PDR                      17\n",
       "Malaysia                     17\n",
       "Indonesia                    16\n",
       "Macao SAR, China             16\n",
       "Samoa                        16\n",
       "Hong Kong SAR, China         14\n",
       "China                        13\n",
       "Fiji                         13\n",
       "Thailand                     12\n",
       "Myanmar                      12\n",
       "Philippines                  12\n",
       "Kiribati                     11\n",
       "Cambodia                     10\n",
       "Marshall Islands              9\n",
       "Palau                         9\n",
       "Solomon Islands               8\n",
       "Vanuatu                       7\n",
       "Timor-Leste                   7\n",
       "Tonga                         4\n",
       "Tuvalu                        3\n",
       "Micronesia, Fed. Sts.         2\n",
       "Papua New Guinea              2\n",
       "Korea, Dem. People’s Rep.     1\n",
       "Vietnam                       1\n",
       "Name: country_name, dtype: int64"
      ]
     },
     "execution_count": 28,
     "metadata": {},
     "output_type": "execute_result"
    }
   ],
   "source": [
    "# Country names\n",
    "df1['country_name'].value_counts()"
   ]
  },
  {
   "cell_type": "markdown",
   "id": "63687933",
   "metadata": {},
   "source": [
    "Some abbreviations but it checks out"
   ]
  },
  {
   "cell_type": "code",
   "execution_count": 29,
   "id": "834866cc",
   "metadata": {},
   "outputs": [
    {
     "data": {
      "text/plain": [
       "AUS    22\n",
       "KOR    20\n",
       "NZL    20\n",
       "SGP    19\n",
       "JPN    18\n",
       "MNG    17\n",
       "BRN    17\n",
       "LAO    17\n",
       "MYS    17\n",
       "IDN    16\n",
       "MAC    16\n",
       "WSM    16\n",
       "HKG    14\n",
       "CHN    13\n",
       "FJI    13\n",
       "THA    12\n",
       "MMR    12\n",
       "PHL    12\n",
       "KIR    11\n",
       "KHM    10\n",
       "MHL     9\n",
       "PLW     9\n",
       "SLB     8\n",
       "VUT     7\n",
       "TLS     7\n",
       "TON     4\n",
       "TUV     3\n",
       "FSM     2\n",
       "PNG     2\n",
       "PRK     1\n",
       "VNM     1\n",
       "Name: country_code, dtype: int64"
      ]
     },
     "execution_count": 29,
     "metadata": {},
     "output_type": "execute_result"
    }
   ],
   "source": [
    "# Country codes\n",
    "df1['country_code'].value_counts()"
   ]
  },
  {
   "cell_type": "markdown",
   "id": "9af374ee",
   "metadata": {},
   "source": [
    "They are all 3 characters long, and they check out"
   ]
  },
  {
   "cell_type": "markdown",
   "id": "448a5f16",
   "metadata": {},
   "source": [
    "###### Missing Values "
   ]
  },
  {
   "cell_type": "code",
   "execution_count": 30,
   "id": "f29b01e8",
   "metadata": {},
   "outputs": [
    {
     "data": {
      "text/html": [
       "<div>\n",
       "<style scoped>\n",
       "    .dataframe tbody tr th:only-of-type {\n",
       "        vertical-align: middle;\n",
       "    }\n",
       "\n",
       "    .dataframe tbody tr th {\n",
       "        vertical-align: top;\n",
       "    }\n",
       "\n",
       "    .dataframe thead th {\n",
       "        text-align: right;\n",
       "    }\n",
       "</style>\n",
       "<table border=\"1\" class=\"dataframe\">\n",
       "  <thead>\n",
       "    <tr style=\"text-align: right;\">\n",
       "      <th></th>\n",
       "      <th>percent_missing</th>\n",
       "    </tr>\n",
       "  </thead>\n",
       "  <tbody>\n",
       "    <tr>\n",
       "      <th>country_name</th>\n",
       "      <td>0.0</td>\n",
       "    </tr>\n",
       "    <tr>\n",
       "      <th>country_code</th>\n",
       "      <td>0.0</td>\n",
       "    </tr>\n",
       "    <tr>\n",
       "      <th>value</th>\n",
       "      <td>0.0</td>\n",
       "    </tr>\n",
       "    <tr>\n",
       "      <th>year</th>\n",
       "      <td>0.0</td>\n",
       "    </tr>\n",
       "    <tr>\n",
       "      <th>region</th>\n",
       "      <td>0.0</td>\n",
       "    </tr>\n",
       "  </tbody>\n",
       "</table>\n",
       "</div>"
      ],
      "text/plain": [
       "              percent_missing\n",
       "country_name              0.0\n",
       "country_code              0.0\n",
       "value                     0.0\n",
       "year                      0.0\n",
       "region                    0.0"
      ]
     },
     "execution_count": 30,
     "metadata": {},
     "output_type": "execute_result"
    }
   ],
   "source": [
    "percent_missing = df1.isnull().sum() * 100 / len(df1)\n",
    "missing_values_df = pd.DataFrame({'percent_missing': percent_missing})\n",
    "\n",
    "missing_values_df"
   ]
  },
  {
   "cell_type": "markdown",
   "id": "2f4d703d",
   "metadata": {},
   "source": [
    "### Data Analysis and Visualizations"
   ]
  },
  {
   "cell_type": "markdown",
   "id": "7595adac",
   "metadata": {},
   "source": [
    "#### Cambodia"
   ]
  },
  {
   "cell_type": "code",
   "execution_count": 32,
   "id": "117f32bd",
   "metadata": {},
   "outputs": [
    {
     "data": {
      "text/html": [
       "<div>\n",
       "<style scoped>\n",
       "    .dataframe tbody tr th:only-of-type {\n",
       "        vertical-align: middle;\n",
       "    }\n",
       "\n",
       "    .dataframe tbody tr th {\n",
       "        vertical-align: top;\n",
       "    }\n",
       "\n",
       "    .dataframe thead th {\n",
       "        text-align: right;\n",
       "    }\n",
       "</style>\n",
       "<table border=\"1\" class=\"dataframe\">\n",
       "  <thead>\n",
       "    <tr style=\"text-align: right;\">\n",
       "      <th></th>\n",
       "      <th>country_name</th>\n",
       "      <th>country_code</th>\n",
       "      <th>value</th>\n",
       "      <th>year</th>\n",
       "      <th>region</th>\n",
       "    </tr>\n",
       "  </thead>\n",
       "  <tbody>\n",
       "    <tr>\n",
       "      <th>39</th>\n",
       "      <td>Cambodia</td>\n",
       "      <td>KHM</td>\n",
       "      <td>34.833179</td>\n",
       "      <td>1998</td>\n",
       "      <td>East Asia &amp; Pacific</td>\n",
       "    </tr>\n",
       "    <tr>\n",
       "      <th>40</th>\n",
       "      <td>Cambodia</td>\n",
       "      <td>KHM</td>\n",
       "      <td>34.400681</td>\n",
       "      <td>1999</td>\n",
       "      <td>East Asia &amp; Pacific</td>\n",
       "    </tr>\n",
       "    <tr>\n",
       "      <th>41</th>\n",
       "      <td>Cambodia</td>\n",
       "      <td>KHM</td>\n",
       "      <td>34.021488</td>\n",
       "      <td>2000</td>\n",
       "      <td>East Asia &amp; Pacific</td>\n",
       "    </tr>\n",
       "    <tr>\n",
       "      <th>42</th>\n",
       "      <td>Cambodia</td>\n",
       "      <td>KHM</td>\n",
       "      <td>32.326611</td>\n",
       "      <td>2001</td>\n",
       "      <td>East Asia &amp; Pacific</td>\n",
       "    </tr>\n",
       "    <tr>\n",
       "      <th>43</th>\n",
       "      <td>Cambodia</td>\n",
       "      <td>KHM</td>\n",
       "      <td>32.186649</td>\n",
       "      <td>2002</td>\n",
       "      <td>East Asia &amp; Pacific</td>\n",
       "    </tr>\n",
       "    <tr>\n",
       "      <th>44</th>\n",
       "      <td>Cambodia</td>\n",
       "      <td>KHM</td>\n",
       "      <td>33.404659</td>\n",
       "      <td>2003</td>\n",
       "      <td>East Asia &amp; Pacific</td>\n",
       "    </tr>\n",
       "    <tr>\n",
       "      <th>45</th>\n",
       "      <td>Cambodia</td>\n",
       "      <td>KHM</td>\n",
       "      <td>35.737560</td>\n",
       "      <td>2004</td>\n",
       "      <td>East Asia &amp; Pacific</td>\n",
       "    </tr>\n",
       "    <tr>\n",
       "      <th>46</th>\n",
       "      <td>Cambodia</td>\n",
       "      <td>KHM</td>\n",
       "      <td>38.847691</td>\n",
       "      <td>2006</td>\n",
       "      <td>East Asia &amp; Pacific</td>\n",
       "    </tr>\n",
       "    <tr>\n",
       "      <th>47</th>\n",
       "      <td>Cambodia</td>\n",
       "      <td>KHM</td>\n",
       "      <td>40.440868</td>\n",
       "      <td>2007</td>\n",
       "      <td>East Asia &amp; Pacific</td>\n",
       "    </tr>\n",
       "    <tr>\n",
       "      <th>48</th>\n",
       "      <td>Cambodia</td>\n",
       "      <td>KHM</td>\n",
       "      <td>41.366581</td>\n",
       "      <td>2008</td>\n",
       "      <td>East Asia &amp; Pacific</td>\n",
       "    </tr>\n",
       "  </tbody>\n",
       "</table>\n",
       "</div>"
      ],
      "text/plain": [
       "   country_name country_code      value  year               region\n",
       "39     Cambodia          KHM  34.833179  1998  East Asia & Pacific\n",
       "40     Cambodia          KHM  34.400681  1999  East Asia & Pacific\n",
       "41     Cambodia          KHM  34.021488  2000  East Asia & Pacific\n",
       "42     Cambodia          KHM  32.326611  2001  East Asia & Pacific\n",
       "43     Cambodia          KHM  32.186649  2002  East Asia & Pacific\n",
       "44     Cambodia          KHM  33.404659  2003  East Asia & Pacific\n",
       "45     Cambodia          KHM  35.737560  2004  East Asia & Pacific\n",
       "46     Cambodia          KHM  38.847691  2006  East Asia & Pacific\n",
       "47     Cambodia          KHM  40.440868  2007  East Asia & Pacific\n",
       "48     Cambodia          KHM  41.366581  2008  East Asia & Pacific"
      ]
     },
     "execution_count": 32,
     "metadata": {},
     "output_type": "execute_result"
    }
   ],
   "source": [
    "# Cambodia DataFrame\n",
    "khm = df1.loc[df1['country_name'] == 'Cambodia']\n",
    "khm"
   ]
  },
  {
   "cell_type": "code",
   "execution_count": 33,
   "id": "16dd24bf",
   "metadata": {},
   "outputs": [
    {
     "data": {
      "image/png": "[encoded data removed]",
      "text/plain": [
       "<Figure size 864x864 with 2 Axes>"
      ]
     },
     "metadata": {},
     "output_type": "display_data"
    }
   ],
   "source": [
    "# Graph\n",
    "fig, ax = plt.subplots(figsize = (12,12))\n",
    "\n",
    "# Colors, font, and fontsize \n",
    "text_c = 'black'\n",
    "markers_c = ''\n",
    "plt.rcParams['font.family'] = 'Consolas'\n",
    "plt.rcParams.update({'font.size': 16})\n",
    "\n",
    "# Background\n",
    "background='white'\n",
    "fig.set_facecolor(background)\n",
    "ax.patch.set_facecolor(background)\n",
    "\n",
    "# Remove the ticks\n",
    "ax.tick_params(axis='both', length=0, colors=text_c)\n",
    "\n",
    "# Remove the spines\n",
    "ax.spines['top'].set_visible(False)\n",
    "ax.spines['right'].set_visible(False)\n",
    "ax.spines['left'].set_visible(False)\n",
    "\n",
    "# Set axis labels\n",
    "ax.set_xlabel('Year', color = 'black')\n",
    "ax.set_yticklabels([]) # Removes the values in the y axis\n",
    "\n",
    "# Values\n",
    "x = khm['year']\n",
    "y = khm['value']\n",
    "bar = ax.bar(x = x, height = y, color = '#032EA1', zorder = 1) # Color code for the blue in Cambodia's flag\n",
    "\n",
    "# Fit a line through the bar graph\n",
    "from numpy.polynomial.polynomial import polyfit\n",
    "m, b = np.polyfit(x, y,deg=1)\n",
    "plt.plot(x, m*x+b, color = '#E00025', zorder = 2)\n",
    "\n",
    "\n",
    "# Bar label\n",
    "ax.bar_label(bar, color = text_c, fmt='%.2f', fontweight = 'bold')\n",
    "\n",
    "# Title\n",
    "fig.text(x=0.31, y=.92,s='Enrollment of Women in _____ in Cambodia', fontsize = 19, color = text_c, fontweight = 'bold')\n",
    "fig.text(x=0.31, y=.89,s='In Percentage(%)', color = text_c, fontsize = 15,fontweight = 'regular')\n",
    "\n",
    "# NFL logo (to go to the far left on the title level)\n",
    "import matplotlib.image as image\n",
    "\n",
    "logo = fig.add_axes([.20,.866,.09,.09])\n",
    "logo.axis('off')\n",
    "img =image.imread('Flag-of-Cambodia.png')\n",
    "logo.imshow(img)\n",
    "\n",
    "plt.show()"
   ]
  },
  {
   "cell_type": "markdown",
   "id": "19882be1",
   "metadata": {},
   "source": [
    "### Singapore"
   ]
  },
  {
   "cell_type": "code",
   "execution_count": 34,
   "id": "d5a41969",
   "metadata": {},
   "outputs": [],
   "source": [
    "# Singapore DataFrame\n",
    "sgp = df1.loc[df1['country_name'] == 'Singapore']\n",
    "# Dataframe for enrollment from 1980 to 1995 (before 12 year skip)\n",
    "sgp1 = sgp[:-3]"
   ]
  },
  {
   "cell_type": "code",
   "execution_count": 35,
   "id": "bc27ecb1",
   "metadata": {},
   "outputs": [
    {
     "data": {
      "text/html": [
       "<div>\n",
       "<style scoped>\n",
       "    .dataframe tbody tr th:only-of-type {\n",
       "        vertical-align: middle;\n",
       "    }\n",
       "\n",
       "    .dataframe tbody tr th {\n",
       "        vertical-align: top;\n",
       "    }\n",
       "\n",
       "    .dataframe thead th {\n",
       "        text-align: right;\n",
       "    }\n",
       "</style>\n",
       "<table border=\"1\" class=\"dataframe\">\n",
       "  <thead>\n",
       "    <tr style=\"text-align: right;\">\n",
       "      <th></th>\n",
       "      <th>year</th>\n",
       "      <th>value</th>\n",
       "      <th>percent_change_in_%</th>\n",
       "    </tr>\n",
       "  </thead>\n",
       "  <tbody>\n",
       "    <tr>\n",
       "      <th>304</th>\n",
       "      <td>1980</td>\n",
       "      <td>40.327309</td>\n",
       "      <td>NaN</td>\n",
       "    </tr>\n",
       "    <tr>\n",
       "      <th>305</th>\n",
       "      <td>1981</td>\n",
       "      <td>40.353828</td>\n",
       "      <td>0.065761</td>\n",
       "    </tr>\n",
       "    <tr>\n",
       "      <th>306</th>\n",
       "      <td>1982</td>\n",
       "      <td>38.045292</td>\n",
       "      <td>-5.720737</td>\n",
       "    </tr>\n",
       "    <tr>\n",
       "      <th>307</th>\n",
       "      <td>1983</td>\n",
       "      <td>39.646770</td>\n",
       "      <td>4.209400</td>\n",
       "    </tr>\n",
       "    <tr>\n",
       "      <th>308</th>\n",
       "      <td>1984</td>\n",
       "      <td>41.950371</td>\n",
       "      <td>5.810310</td>\n",
       "    </tr>\n",
       "    <tr>\n",
       "      <th>309</th>\n",
       "      <td>1985</td>\n",
       "      <td>40.844452</td>\n",
       "      <td>-2.636255</td>\n",
       "    </tr>\n",
       "    <tr>\n",
       "      <th>310</th>\n",
       "      <td>1986</td>\n",
       "      <td>41.638111</td>\n",
       "      <td>1.943126</td>\n",
       "    </tr>\n",
       "    <tr>\n",
       "      <th>311</th>\n",
       "      <td>1987</td>\n",
       "      <td>41.446548</td>\n",
       "      <td>-0.460066</td>\n",
       "    </tr>\n",
       "    <tr>\n",
       "      <th>312</th>\n",
       "      <td>1988</td>\n",
       "      <td>40.707642</td>\n",
       "      <td>-1.782795</td>\n",
       "    </tr>\n",
       "    <tr>\n",
       "      <th>313</th>\n",
       "      <td>1989</td>\n",
       "      <td>40.998638</td>\n",
       "      <td>0.714845</td>\n",
       "    </tr>\n",
       "    <tr>\n",
       "      <th>314</th>\n",
       "      <td>1990</td>\n",
       "      <td>40.873821</td>\n",
       "      <td>-0.304442</td>\n",
       "    </tr>\n",
       "    <tr>\n",
       "      <th>315</th>\n",
       "      <td>1991</td>\n",
       "      <td>40.232449</td>\n",
       "      <td>-1.569153</td>\n",
       "    </tr>\n",
       "    <tr>\n",
       "      <th>316</th>\n",
       "      <td>1992</td>\n",
       "      <td>39.829819</td>\n",
       "      <td>-1.000759</td>\n",
       "    </tr>\n",
       "    <tr>\n",
       "      <th>317</th>\n",
       "      <td>1993</td>\n",
       "      <td>40.367908</td>\n",
       "      <td>1.350972</td>\n",
       "    </tr>\n",
       "    <tr>\n",
       "      <th>318</th>\n",
       "      <td>1994</td>\n",
       "      <td>46.774101</td>\n",
       "      <td>15.869519</td>\n",
       "    </tr>\n",
       "    <tr>\n",
       "      <th>319</th>\n",
       "      <td>1995</td>\n",
       "      <td>47.100349</td>\n",
       "      <td>0.697497</td>\n",
       "    </tr>\n",
       "  </tbody>\n",
       "</table>\n",
       "</div>"
      ],
      "text/plain": [
       "     year      value  percent_change_in_%\n",
       "304  1980  40.327309                  NaN\n",
       "305  1981  40.353828             0.065761\n",
       "306  1982  38.045292            -5.720737\n",
       "307  1983  39.646770             4.209400\n",
       "308  1984  41.950371             5.810310\n",
       "309  1985  40.844452            -2.636255\n",
       "310  1986  41.638111             1.943126\n",
       "311  1987  41.446548            -0.460066\n",
       "312  1988  40.707642            -1.782795\n",
       "313  1989  40.998638             0.714845\n",
       "314  1990  40.873821            -0.304442\n",
       "315  1991  40.232449            -1.569153\n",
       "316  1992  39.829819            -1.000759\n",
       "317  1993  40.367908             1.350972\n",
       "318  1994  46.774101            15.869519\n",
       "319  1995  47.100349             0.697497"
      ]
     },
     "execution_count": 35,
     "metadata": {},
     "output_type": "execute_result"
    }
   ],
   "source": [
    "# Yearly change in enrollment from 1980 to 1995 (before 12 year skip)\n",
    "percent_change = sgp1['value'].pct_change()\n",
    "pd.DataFrame({'year':sgp1['year'], 'value':sgp1['value'], 'percent_change_in_%':percent_change*100})"
   ]
  },
  {
   "cell_type": "code",
   "execution_count": 36,
   "id": "ac54b9e4",
   "metadata": {},
   "outputs": [
    {
     "data": {
      "image/png": "[encoded data removed]",
      "text/plain": [
       "<Figure size 576x288 with 1 Axes>"
      ]
     },
     "metadata": {
      "needs_background": "light"
     },
     "output_type": "display_data"
    },
    {
     "data": {
      "text/plain": [
       "<Figure size 432x288 with 0 Axes>"
      ]
     },
     "metadata": {},
     "output_type": "display_data"
    }
   ],
   "source": [
    "import matplotlib.patheffects as path_effects\n",
    "\n",
    "# Form the figure\n",
    "fig,ax = plt.subplots(figsize=(8, 4))\n",
    "\n",
    "# Add text\n",
    "title = fig.text(0.59, 0.75,\"Female Enrollment in Upper Secondary Education\", ha='center', va='center', size=20, fontweight='bold')\n",
    "\n",
    "text1 = fig.text(0.35, 0.5, '15.87%', color='white',\n",
    "                          ha='center', va='center', size=30)\n",
    "text1.set_path_effects([path_effects.Stroke(linewidth=3, foreground='green'),\n",
    "                       path_effects.Normal()])\n",
    "text2 = fig.text(0.25, 0.4, 'Greatest upswing (1994)', va='center', size = 13)\n",
    "\n",
    "text3 = fig.text(0.75, 0.5, '-5.72%', color='white',\n",
    "                          ha='center', va='center', size=30)\n",
    "text3.set_path_effects([path_effects.Stroke(linewidth=3, foreground='red'),\n",
    "                       path_effects.Normal()])\n",
    "text4 = fig.text(0.65, 0.4, 'Sharpest decline (1982)', va='center', size = 13)\n",
    "\n",
    "\n",
    "# Remove the spines\n",
    "ax.spines['top'].set_visible(False)\n",
    "ax.spines['bottom'].set_visible(False)\n",
    "ax.spines['right'].set_visible(False)\n",
    "ax.spines['left'].set_visible(False)\n",
    "\n",
    "# Remove axis labels\n",
    "ax.set_xticklabels([])\n",
    "ax.set_yticklabels([]) \n",
    "\n",
    "# Remove the ticks\n",
    "ax.tick_params(axis='both', length=0, colors=text_c)\n",
    "\n",
    "plt.show()\n",
    "\n",
    "# Save\n",
    "plt.savefig(fname = 'Text Only Practice', dpi=400, format='png')"
   ]
  },
  {
   "cell_type": "code",
   "execution_count": null,
   "id": "20fb51e7",
   "metadata": {},
   "outputs": [],
   "source": []
  }
 ],
 "metadata": {
  "kernelspec": {
   "display_name": "Python 3 (ipykernel)",
   "language": "python",
   "name": "python3"
  },
  "language_info": {
   "codemirror_mode": {
    "name": "ipython",
    "version": 3
   },
   "file_extension": ".py",
   "mimetype": "text/x-python",
   "name": "python",
   "nbconvert_exporter": "python",
   "pygments_lexer": "ipython3",
   "version": "3.9.7"
  }
 },
 "nbformat": 4,
 "nbformat_minor": 5
}
